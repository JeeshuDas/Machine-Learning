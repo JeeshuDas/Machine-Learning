{
 "cells": [
  {
   "cell_type": "code",
   "execution_count": 2,
   "id": "b7ae49f6-e337-4e34-ac3d-77ca392d8add",
   "metadata": {},
   "outputs": [],
   "source": [
    "import nbformat # used to read .ipynb notebooks\n",
    "from nbconvert.preprocessors import ExecutePreprocessor # to execute notebook cells\n",
    "import json \n",
    "import torch # used for neural networks\n",
    "import torch.nn as nn\n",
    "import torch.optim as optim"
   ]
  },
  {
   "cell_type": "code",
   "execution_count": 11,
   "id": "ff149890-32e1-4437-917c-514304884fe1",
   "metadata": {},
   "outputs": [],
   "source": [
    "# defining a helper funciton to execute a notebook and return a variable\n",
    "def run_notebook(notebook_path, input_data, expected_output_name):\n",
    "    \"\"\"\n",
    "    Executes a notebook with 'user_input' injected and returns the specified output variable\n",
    "    \"\"\"\n",
    "    # open and read notebook files\n",
    "    with open(notebook_path) as f:\n",
    "        nb = nbformat.read(f, as_version=4) # read notebook in version 4 format\n",
    "\n",
    "    # injecting user_input in notebook\n",
    "    nb.cells.insert(0, nbformat.v4.new_code_cell(f\"user_input = '''{input_data}'''\")) # insert new code cell with user input\n",
    "    nb.cells.append(nbformat.v4.new_code_cell(f\"import json\\nprint(json.dumps({expected_output_name}))\"))\n",
    "    # creating an executor to run the notebook\n",
    "    ep = ExecutePreprocessor(timeout=600, kernel_name='python3') # set timeout and kernel\n",
    "    # run notebook in a temporary directory context\n",
    "    try: # execute the notebook within its own directory to handle relative paths\n",
    "        ep.preprocess(nb, {'metadata': {'path': './'}}) # execute in current directory\n",
    "    except Exception as e:\n",
    "        print(f\"error in notebook execution: {e}\")\n",
    "        return None\n",
    "    # final_ns = {} # execute global variables created during execution\n",
    "    # collect the output variable from the last cell that defines it\n",
    "    # loop through notebook cells to find the output variable\n",
    "    for output in nb.cells[-1].get(\"outputs\",[]):\n",
    "        if output.output_type == \"stream\" and output.name == \"stdout\":\n",
    "            try:\n",
    "                return json.loads(output.text.strip())\n",
    "            except Exception as e:\n",
    "                print(\"JSON parsing failed:\",e)\n",
    "                return None\n",
    "    print(\"no valid output found\")\n",
    "    return None"
   ]
  },
  {
   "cell_type": "code",
   "execution_count": 12,
   "id": "ce7e9f06-c93b-4e98-9306-4c92816c02b3",
   "metadata": {},
   "outputs": [],
   "source": [
    "# function to generate a psychologically alignes AI response\n",
    "def generate_response(emotion_result, personality_traits):\n",
    "    # select a tone response based on dominant emotion\n",
    "    emotion = emotion_result.get(\"dominanr_emotion\", \"neutral\")\n",
    "    mental_state = emotion_result.get(\"mental_state\", \"Neutral\")\n",
    "    frequent_words = emotion_result.get(\"frequent_words\", [])\n",
    "\n",
    "    # extracting dominant personality traits\n",
    "    sorted_traits = sorted(personality_traits.items(), key=lambda x: x[1], reverse=True)\n",
    "    top_trait, top_score = sorted_traits[0]\n",
    "    # choose personality specific messages\n",
    "    personality_responses = {\n",
    "         \"Openness\": \"You seem to value curiosity, creativity, and open-minded thinking.\",\n",
    "         \"Conscientiousness\": \"You appear organized, responsible, and dependable.\",\n",
    "         \"Extraversion\": \"You're energetic, outgoing, and thrive in social settings.\",\n",
    "         \"Agreeableness\": \"You come across as kind, trusting, and empathetic.\",\n",
    "         \"Neuroticism\": \"You may be feeling emotionally sensitive or stressed.\",\n",
    "         \"Assertiveness\": \"You show confidence and decisiveness in your communication.\",\n",
    "         \"Altruism\": \"You demonstrate a caring and generous attitude toward others.\",\n",
    "         \"Impulsivity\": \"You seem spontaneous and quick to act on feelings.\",\n",
    "         \"Cautiousness\": \"You’re careful, thoughtful, and tend to avoid unnecessary risks.\",\n",
    "         \"Self-consciousness\": \"You may be feeling a bit shy or emotionally reserved.\",\n",
    "         \"Adventurousness\": \"You love taking risks and exploring new experiences.\",\n",
    "         \"Emotional Awareness\": \"You're mindful, intuitive, and in touch with emotions.\",\n",
    "         \"Industriousness\": \"You show determination, persistence, and a strong work ethic.\"\n",
    "     }\n",
    "    # crafting the response\n",
    "    response = (\n",
    "    f\"i sense you are feeling **{emotion}** right now, which might reflect a **{mental_state}** mental state.\\n\"\n",
    "    f\"Based on your personality, you show strong **{top_trait}** ({top_score}/1).\\n\"\n",
    "    f\"{personality_responses.get(top_trait, '')}\\n\"\n",
    "    )\n",
    "    if frequent_words:\n",
    "        response += f\"By the way, you've been talking a lot about: {', '.join(frequent_words)}.\\n\"\n",
    "    return response"
   ]
  },
  {
   "cell_type": "code",
   "execution_count": 17,
   "id": "2a10c94f-e3c5-4751-8450-5f206b509d8d",
   "metadata": {},
   "outputs": [
    {
     "name": "stdin",
     "output_type": "stream",
     "text": [
      "you:  i am feeling hungry\n"
     ]
    },
    {
     "name": "stdout",
     "output_type": "stream",
     "text": [
      "\n",
      "AI: i sense you are feeling **neutral** right now, which might reflect a **Neutral** mental state.\n",
      "Based on your personality, you show strong **Neuroticism** (0.57/1).\n",
      "You may be feeling emotionally sensitive or stressed.\n",
      "\n"
     ]
    }
   ],
   "source": [
    "# entry point of the script\n",
    "if __name__ == \"__main__\":\n",
    "    user_input = input(\"you: \")\n",
    "    # run the emotion detection notebook \n",
    "    emotion_result = run_notebook(\"EMTN_DTC.ipynb\", user_input, \"personality_profile\")\n",
    "    # run the personality detection notebook\n",
    "    personality_result = run_notebook(\"PRSN_DTC.ipynb\", user_input, \"analyze_personality(user_input)\")\n",
    "    # validate outputs\n",
    "    if emotion_result is None or personality_result is None:\n",
    "        print(\"failed to process input. check notebook paths and structure\")\n",
    "    else:\n",
    "        response = generate_response(emotion_result, personality_result)\n",
    "        print(\"\\nAI:\", response)"
   ]
  },
  {
   "cell_type": "code",
   "execution_count": null,
   "id": "b5f86de7-0d1e-4029-a7b3-7d48ed0ac5b4",
   "metadata": {},
   "outputs": [],
   "source": []
  }
 ],
 "metadata": {
  "kernelspec": {
   "display_name": "Python 3 (ipykernel)",
   "language": "python",
   "name": "python3"
  },
  "language_info": {
   "codemirror_mode": {
    "name": "ipython",
    "version": 3
   },
   "file_extension": ".py",
   "mimetype": "text/x-python",
   "name": "python",
   "nbconvert_exporter": "python",
   "pygments_lexer": "ipython3",
   "version": "3.12.6"
  }
 },
 "nbformat": 4,
 "nbformat_minor": 5
}
