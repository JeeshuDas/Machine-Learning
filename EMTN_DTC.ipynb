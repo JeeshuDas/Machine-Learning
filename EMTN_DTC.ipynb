{
 "cells": [
  {
   "cell_type": "code",
   "execution_count": 1,
   "id": "82965834-a859-424f-ad43-9ecd5501e7f8",
   "metadata": {},
   "outputs": [],
   "source": [
    "from transformers import pipeline  # loding prebuild nlp model like sentiment analysis\n",
    "from sklearn.feature_extraction.text import TfidfVectorizer # for keyword extraction\n",
    "import json # printing the profile and readable format"
   ]
  },
  {
   "cell_type": "code",
   "execution_count": 2,
   "id": "ef84b47c-ad34-452a-a35a-33d1bdf2f41b",
   "metadata": {},
   "outputs": [
    {
     "name": "stderr",
     "output_type": "stream",
     "text": [
      "Device set to use cpu\n",
      "C:\\Users\\jeesh\\AppData\\Local\\Programs\\Python\\Python312\\Lib\\site-packages\\transformers\\pipelines\\text_classification.py:106: UserWarning: `return_all_scores` is now deprecated,  if want a similar functionality use `top_k=None` instead of `return_all_scores=True` or `top_k=1` instead of `return_all_scores=False`.\n",
      "  warnings.warn(\n"
     ]
    }
   ],
   "source": [
    "classifier = pipeline(\"text-classification\", model=\"j-hartmann/emotion-english-distilroberta-base\", return_all_scores=True) # function that accepts text and returns sentiment label"
   ]
  },
  {
   "cell_type": "code",
   "execution_count": 3,
   "id": "67c5f7f1-0ac2-4f6b-be18-a1e5a11f6c92",
   "metadata": {},
   "outputs": [],
   "source": [
    "conversation_log = [] # stores all user inputs\n",
    "personality_profile = { # profile dictionary\n",
    "    \"emotion_counts\": {}, # stors the words representing emotions\n",
    "    \"frequent_words\": [], # top frequent words from user input\n",
    "    \"mental_state\": \"Neutral\" # overall mental and emotional state\n",
    "}"
   ]
  },
  {
   "cell_type": "code",
   "execution_count": 16,
   "id": "dd6e4341-3044-4494-a581-bf410e5e54c7",
   "metadata": {},
   "outputs": [],
   "source": [
    "def process_input(user_input): # function to get user input\n",
    "    results = classifier(user_input)[0] # gets the emotion results from the classifier\n",
    "    #total_score = sum([r['score'] for r in results]) # sum of all emotional scores\n",
    "    top_emotion = max(results, key=lambda x: x['score']) # choose the emotion with highest confidence\n",
    "    emotion_label = top_emotion['label'] # extracts the emotions\n",
    "    emotion_score = top_emotion['score'] # extarcts score\n",
    "    #emotion_percentage = ((emotion_score / total_score)*100) # converting the score of dominant emotion to percentage\n",
    "    conversation_log.append(user_input) # saves conversation to memory\n",
    "    # counts amount of times a particular emotion appears\n",
    "    if emotion_label in personality_profile[\"emotion_counts\"]:\n",
    "        personality_profile[\"emotion_counts\"][emotion_label] +=1 # increments by one \n",
    "    else:\n",
    "        personality_profile[\"emotion_counts\"][emotion_label] =1 # initialize count\n",
    "    \n",
    "    # map emotion to mental state\n",
    "    emotion_to_state ={\n",
    "        \"joy\": \"Excited\",\n",
    "        \"love\": \"Stable\",\n",
    "        \"anger\": \"Frustrated\",\n",
    "        \"fear\": \"Anxious\",\n",
    "        \"sadness\": \"Depressed\",\n",
    "        \"surprise\": \"Stressed\",\n",
    "        \"neutral\": \"Neutral\"\n",
    "    }\n",
    "    mental_state = emotion_to_state.get(emotion_label.lower(),\"Unclear\")\n",
    "    # now we convert emotions to lower case and map to state\n",
    "    personality_profile[\"mental_state\"] = mental_state\n",
    "    analyze_frequent_words() # update frequent words\n",
    "    result = {\n",
    "        \"dominanr_emotion\": emotion_label, \n",
    "        \"emotion_score\": round(emotion_score,3), # returns value between 0 and 1\n",
    "        \"mental_state\": mental_state\n",
    "    }\n",
    "    print(f\"\\n {result}\") # see result values\n",
    "    return result"
   ]
  },
  {
   "cell_type": "code",
   "execution_count": 17,
   "id": "2a01a05c-402d-4886-a0e3-88e220467fd5",
   "metadata": {},
   "outputs": [],
   "source": [
    "def analyze_frequent_words(): # function to analyse the frequency of words\n",
    "    if conversation_log:\n",
    "        vectorizer = TfidfVectorizer(stop_words='english') # remove less meaningful or regular words\n",
    "        X = vectorizer.fit_transform(conversation_log) # fits model to all past user input\n",
    "        words = vectorizer.get_feature_names_out() # extract words\n",
    "        scores = X.sum(axis=0).A1 # stores the score for each words\n",
    "        top_words = [words[i] for i in scores.argsort()[::-1][:5]] # extracts top 5 keywords\n",
    "        personality_profile[\"frequent_words\"] = top_words # updates profile with the most frequent words"
   ]
  },
  {
   "cell_type": "code",
   "execution_count": 18,
   "id": "08e48b08-c8e6-440b-9e2f-78871e25ff0a",
   "metadata": {},
   "outputs": [],
   "source": [
    "def show_profile():\n",
    "    analyze_frequent_words() # this line calls the above functions\n",
    "    print(json.dumps(personality_profile, indent = 4)) # prints the profile"
   ]
  },
  {
   "cell_type": "code",
   "execution_count": 1,
   "id": "806f93ac-ba0c-4987-b93c-cb2b3d964773",
   "metadata": {},
   "outputs": [],
   "source": [
    "# print(\"you can talk to me and type 'exit' to stop\")\n",
    "# while True:\n",
    "#     user_input = input(\"You: \") # user input\n",
    "#     if user_input.lower() ==\"exit\":\n",
    "#         break\n",
    "#     process_input(user_input) # process and learn from it\n",
    "#     emotion_data = personality_profile[\"emotion_counts\"] # shows the emotion data\n",
    "#     if emotion_data:\n",
    "#         current_emotion = max(emotion_data, key=emotion_data.get)\n",
    "#         current_state = personality_profile[\"mental_state\"]\n",
    "#         print(f\"detected emotions: {current_emotion} | Estimated mental state: {current_state}\\n\")\n",
    "#     analyze_frequent_words() # shows the updated frequent word after everyinput\n",
    "#     print(f\"frequent words so far: {personality_profile['frequent_words']}\\n\")"
   ]
  },
  {
   "cell_type": "code",
   "execution_count": 11,
   "id": "1405aae5-29ac-4a4c-88e9-ad72b809d5a4",
   "metadata": {},
   "outputs": [
    {
     "name": "stdout",
     "output_type": "stream",
     "text": [
      "{\n",
      "    \"emotion_counts\": {\n",
      "        \"neutral\": 4,\n",
      "        \"anger\": 1,\n",
      "        \"joy\": 5,\n",
      "        \"sadness\": 4,\n",
      "        \"surprise\": 2\n",
      "    },\n",
      "    \"mental_state\": \"Excited\",\n",
      "    \"frequent_words\": [\n",
      "        \"ok\",\n",
      "        \"today\",\n",
      "        \"ooh\",\n",
      "        \"nothappy\",\n",
      "        \"holla\"\n",
      "    ]\n",
      "}\n"
     ]
    }
   ],
   "source": [
    "show_profile()"
   ]
  }
 ],
 "metadata": {
  "kernelspec": {
   "display_name": "Python 3 (ipykernel)",
   "language": "python",
   "name": "python3"
  },
  "language_info": {
   "codemirror_mode": {
    "name": "ipython",
    "version": 3
   },
   "file_extension": ".py",
   "mimetype": "text/x-python",
   "name": "python",
   "nbconvert_exporter": "python",
   "pygments_lexer": "ipython3",
   "version": "3.12.6"
  }
 },
 "nbformat": 4,
 "nbformat_minor": 5
}
