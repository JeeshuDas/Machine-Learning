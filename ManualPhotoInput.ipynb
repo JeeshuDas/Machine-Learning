{
 "cells": [
  {
   "cell_type": "code",
   "execution_count": 26,
   "id": "514ce167-0b13-49c1-8ac1-82cd3af7796b",
   "metadata": {},
   "outputs": [
    {
     "name": "stdout",
     "output_type": "stream",
     "text": [
      "\u001b[1m1/1\u001b[0m \u001b[32m━━━━━━━━━━━━━━━━━━━━\u001b[0m\u001b[37m\u001b[0m \u001b[1m0s\u001b[0m 89ms/step\n",
      "Prediction probabilities: [[5.6636816e-01 6.3307981e-14 4.1459541e-07 1.5195281e-17 2.5735876e-06\n",
      "  4.2362507e-12 4.4094497e-05 1.3028765e-07 3.3415409e-14 2.5179803e-02\n",
      "  2.2532400e-27 4.2259821e-06 3.9380459e-19 5.0637970e-16 8.8689054e-19\n",
      "  3.5363373e-01 5.4766826e-02 0.0000000e+00 1.4410892e-31 3.6777726e-13\n",
      "  0.0000000e+00 0.0000000e+00 0.0000000e+00 5.1253080e-38 5.0783203e-14\n",
      "  7.3501932e-20]]\n",
      "A\n"
     ]
    }
   ],
   "source": [
    "import tensorflow as tf\n",
    "import numpy as np\n",
    "\n",
    "# Load the .keras model\n",
    "model = tf.keras.models.load_model('SS.keras')\n",
    "\n",
    "def predict_sign(image_path):\n",
    "    # Load and preprocess the image\n",
    "    img = tf.keras.preprocessing.image.load_img(image_path, target_size=(64, 64))\n",
    "    img_array = tf.keras.preprocessing.image.img_to_array(img)\n",
    "    img_array = np.expand_dims(img_array, axis=0) / 255.0\n",
    "    \n",
    "    # Make the prediction using the loaded model\n",
    "    predictions = model.predict(img_array)\n",
    "    prediction = np.argmax(predictions, axis=1)\n",
    "    \n",
    "    # Print prediction probabilities\n",
    "    print(\"Prediction probabilities:\", predictions)\n",
    "    \n",
    "    # Map prediction to alphabet (A-Z)\n",
    "    alphabet = chr(prediction[0] + 65)  # ASCII value for 'A' starts at 65\n",
    "    return alphabet\n",
    "\n",
    "# Example prediction\n",
    "print(predict_sign(r\"C:\\Users\\jeesh\\Desktop\\MOI Trash\\Sign Language to Speech\\GSL_Dataset\\GSL_Test\\D\\D_1.png\"))"
   ]
  },
  {
   "cell_type": "code",
   "execution_count": null,
   "id": "e8373215-3476-49df-b88b-785520ca23b7",
   "metadata": {},
   "outputs": [],
   "source": []
  }
 ],
 "metadata": {
  "kernelspec": {
   "display_name": "Python 3 (ipykernel)",
   "language": "python",
   "name": "python3"
  },
  "language_info": {
   "codemirror_mode": {
    "name": "ipython",
    "version": 3
   },
   "file_extension": ".py",
   "mimetype": "text/x-python",
   "name": "python",
   "nbconvert_exporter": "python",
   "pygments_lexer": "ipython3",
   "version": "3.12.6"
  }
 },
 "nbformat": 4,
 "nbformat_minor": 5
}
