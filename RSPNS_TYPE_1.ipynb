{
 "cells": [
  {
   "cell_type": "code",
   "execution_count": 6,
   "id": "3785f8c7-fed6-42ec-92df-416ae7ccab72",
   "metadata": {},
   "outputs": [],
   "source": [
    "import nbformat  # module used for reading/writing jupyter notebooks\n",
    "# nbvonvert.preprocessors is a submodule for executing notebooks\n",
    "# executepreprocessors runs all the cells in a jupyter notebook\n",
    "from nbconvert.preprocessors import ExecutePreprocessor  # Executes the code cells in a notebook\n",
    "import json # for reading and writing or encode and decode json data\n",
    "import torch  # this library is used for building and training neural networks\n",
    "import torch.nn as nn # contains neural network layers, loss functions etc\n",
    "import torch.optim as optim # module to optimization algorithm"
   ]
  },
  {
   "cell_type": "code",
   "execution_count": 7,
   "id": "710184f2-ff0e-4b7a-8336-27798c30b422",
   "metadata": {},
   "outputs": [],
   "source": [
    "# defining a class named rewardmodel which inherits from nn.module\n",
    "# nn.module is the base class for all pytorch models\n",
    "class RewardModel(nn.Module):\n",
    "    def __init__(self, input_dim): # __init__ is a special method that runs when an object is created\n",
    "        # self is a reference to the current object\n",
    "        # input dim is the number of inpute features\n",
    "        super(RewardModel, self).__init__() # calls the parent classe's constructor\n",
    "        self.model = nn.Sequential( # sequential container for layers\n",
    "            nn.Linear(input_dim, 32), # hidden layer 1, fully connected with 32 neurons\n",
    "            nn.ReLU(), # applies the rectified linear unit activation function\n",
    "            nn.Linear(32,16), # hidden layer 2 with 16 neurons\n",
    "            nn.ReLU(), # activation for second layer\n",
    "            nn.Linear(16,1))  # output layer with 1 neuron to predict reward score\n",
    "    def forward(self, x): # forward defines how the input tensor moves through the model\n",
    "        # x is the input feature vector\n",
    "        return self.model(x) # feed x through the defined layers and return the result"
   ]
  },
  {
   "cell_type": "code",
   "execution_count": 8,
   "id": "513c2d47-0c9d-4757-845b-072ab89d5394",
   "metadata": {},
   "outputs": [],
   "source": [
    "# execute a notebook and return a specific variables output\n",
    "def run_notebook(notebook_path, input_data, output_variable):\n",
    "    with open(notebook_path) as f: # with is used to safelf open and close the file\n",
    "        # open() opens the file at notebook path in read mode\n",
    "        # as f assignes the file handle to variable f\n",
    "        nb = nbformat.read(f, as_version=4) # read the notebook using version 4 format\n",
    "    # inject the user input at the top of the notebook\n",
    "    nb.cells.insert(0, nbformat.v4.new_code_cell(f\"user_input = '''{input_data}'''\"))\n",
    "    # nb.cells.insert() inserts a new code cell at the beginning of the notebook\n",
    "    # nbformat.v4.new_code_cell() creats a code cell with user input\n",
    "    ep = ExecutePreprocessor(timeout=600) # create an execute preprocessor instance with a timeout of 600 seconds\n",
    "    try:\n",
    "        ep.preprocess(nb) # runs all the cells in the notebook\n",
    "        # search for output variable in each cell\n",
    "        for cell in nb.cells: # loop goes through each cell in the notebook\n",
    "            if cell.cell_type == 'code' and 'outputs' in cell:\n",
    "                # if the code cell contains code and output\n",
    "                for output in cell.outputs:\n",
    "                    # if the output contains text\n",
    "                    if 'text' in outputs:\n",
    "                        try:\n",
    "                            result = json.loads(output.text) # parse output text as json\n",
    "                            if output_variable in result:\n",
    "                                # if the desired variable is in the result\n",
    "                                return result[output_variable] # return that value\n",
    "                        except:\n",
    "                            continue # skip if json parsing fails\n",
    "    except Exception as e:\n",
    "        print(f\"error in notebook execution: {e}\") # print execution error\n",
    "    return {} # return empty dictionary if no output found"
   ]
  },
  {
   "cell_type": "code",
   "execution_count": 9,
   "id": "0d164f19-e446-4143-b4a3-8d3080dd4699",
   "metadata": {},
   "outputs": [],
   "source": [
    "# feature encoding: convert emotion, personality, and input to tensor vector\n",
    "def encode_features(emotion, personality, user_input): # define possible emotions in fixed order for one hot encoding\n",
    "    emotion_keys = ['happy', 'sad', 'angry', 'fear', 'neutral'] # defined emotion labels\n",
    "    feature_vec.append = [] # list to store the encoded features\n",
    "    # one hot encode the dominant emotion ([1,0,0,0,0] for happy)\n",
    "    for emo in emotion_keys:\n",
    "        feature_vec.append(1 if emo == emotion.get('dominant_emotion') else 0)\n",
    "    # append personality trait scores in sorted order of trait names\n",
    "    for trait in sorted(personality.keys()):\n",
    "        feature_vec.append(personality[trait])\n",
    "    # append the length of the user input, normalized by 100\n",
    "    feature_vec.append(len(user_input)/100.0)\n",
    "    return torch.tensor(feature_vec, dtype=torch.float32) # convert the list to a pytorch vector with type float32"
   ]
  },
  {
   "cell_type": "code",
   "execution_count": 10,
   "id": "4992b7d7-5ff3-40cc-9e56-fe6b7bc1fa4e",
   "metadata": {},
   "outputs": [],
   "source": [
    "# store user feedback data in a file for later model training\n",
    "def store_feedback(user_input, response, emotion, personality, feedback_score):\n",
    "    data = {  # create a dictionary with all relevant feedback data\n",
    "        \"user_input\": user_input, # original input\n",
    "        \"response\": response, # bots response\n",
    "        \"emotion_result\": emotion, # emotion analysis result\n",
    "        \"personality_result\": personality, # personality traits\n",
    "        \"user_feedback\": feedback_score # users rating on the response\n",
    "    }\n",
    "    # append the data as json to a log file\n",
    "    with open(\"feedback_logs.jsonl\", \"a\") as f:\n",
    "        # open the feedback file in append mode (\"a\")\n",
    "        f.write(json.dumps(data) + \"\\n\") # write data and add new line\n",
    "        # json.dumps() convert the dictionary into a json string"
   ]
  },
  {
   "cell_type": "code",
   "execution_count": 11,
   "id": "16cc3e42-371f-4df3-b085-92c301bac08a",
   "metadata": {},
   "outputs": [],
   "source": [
    "# train the reward model using the stored feedback from the file\n",
    "def train_reward_model(log_file=\"feedback_logs.jsonl\"):\n",
    "    features, labels = [], [] # lists to store input fetures and target labels\n",
    "    # open the feedback file in read mode (\"r\")\n",
    "    with open(log_file,\"r\") as f:\n",
    "        for line in f: # read line by line\n",
    "            item = json.loads(line) # parse each line as json\n",
    "            x = enocde_features(item['emotion_result'], item['personality_result'], item['user_input']) # input features\n",
    "            y = torch.tensor([item['user_feedback']], dtype=torch.float32) # target feedback score\n",
    "            features.append(x)\n",
    "            balels.append(y)\n",
    "    # initialize the model with input size = feature length\n",
    "    model = RewardModel(len(features[0]))\n",
    "    criterion = nn.MSELoss() # loss function: mean squared error\n",
    "    optimizer = optim.Adam(model.parameters(), lr=0.01) # optimizer: adam with learning rate 0.01\n",
    "    # train for 10 epochs\n",
    "    for epoch in range(10):\n",
    "        total_loss = 0 # track total loss for each epoch\n",
    "        for x,y in zip(features, labels): # loop through each training sample\n",
    "            optimizer.zero_grad() # reset gradients before each update\n",
    "            output = mode(x) # predict output using the model\n",
    "            loss = criterion(output, y) # calculate the loss between predicted and actual feedback\n",
    "            loss.backward() # backpropagate error\n",
    "            optimizer.step() # update model parameters\n",
    "            total_loss += loss.item() # accumulate loss\n",
    "        print(f\"epoch {epoch+1}, Loss: {total_loss:.4f}\")\n",
    "    return model"
   ]
  },
  {
   "cell_type": "code",
   "execution_count": 12,
   "id": "c40664c3-81f2-4c19-90b7-376353cd28be",
   "metadata": {},
   "outputs": [],
   "source": [
    "# generate a response based on detected emotion and personality\n",
    "def generate_response(user_input, emotion, personality):\n",
    "    mood = emotion.get(\"dominant_emotion\", \"neutral\") # get dominant emotion from dictionary\n",
    "    # coose tone based on agreeableness personality trait\n",
    "    style = \"friendly\" if personality.get(\"agreeableness\", 0.5) > 0.6 else \"neutral\"\n",
    "    # returns a basic response string\n",
    "    return f\"i am sensing you are feeling {mood}. i am here with a {style} tone. tell me more?\""
   ]
  },
  {
   "cell_type": "code",
   "execution_count": 15,
   "id": "4768e6bc-986c-4b66-9348-a99c9ef33c67",
   "metadata": {},
   "outputs": [],
   "source": [
    "# main function to run the chatbot loop\n",
    "def main():\n",
    "    print(\"talk to me\")\n",
    "    while True: # infinite loop for conversation\n",
    "        user_input = input(\"you: \")\n",
    "        if user_input.lower() == \"exit\": # check for exit command\n",
    "            break\n",
    "        # run notebooks to get emotion and personality analysis\n",
    "        emotion_result = run_notebook(\"EMTN_DTC.ipynb\", user_input, \"emotion_output\")\n",
    "        personality_result = run_notebook(\"PRSN_DTC.ipynb\", user_input, \"personality_traits\")\n",
    "        # generate a response using analysis results\n",
    "        response = generate_response(user_input, emotion_result, personality_result)\n",
    "        print(\"bot: \", response)\n",
    "        try:\n",
    "            # ask user for feedback and convert it to float\n",
    "            feedback = float(input(\"rate response 1-5: \"))\n",
    "            # save feedback to file\n",
    "            store_feedback(user_input, response, emotion_result, personality_result, feedback)\n",
    "        except:\n",
    "            print(\"invalid feedback\") # handle non neumeric feed back"
   ]
  },
  {
   "cell_type": "code",
   "execution_count": 16,
   "id": "30c134c2-8cb6-42dd-aecd-0a220cfa9933",
   "metadata": {},
   "outputs": [
    {
     "name": "stdout",
     "output_type": "stream",
     "text": [
      "talk to me\n"
     ]
    },
    {
     "name": "stdin",
     "output_type": "stream",
     "text": [
      "you:  hello bot! hope you doing well today.\n"
     ]
    },
    {
     "name": "stdout",
     "output_type": "stream",
     "text": [
      "error in notebook execution: name 'outputs' is not defined\n",
      "bot:  i am sensing you are feeling neutral. i am here with a neutral tone. tell me more?\n"
     ]
    },
    {
     "name": "stdin",
     "output_type": "stream",
     "text": [
      "rate response 1-5:  2\n",
      "you:  exit\n"
     ]
    }
   ],
   "source": [
    "# entry point check to run main function\n",
    "# __name__ is a built in variale that is __main__ when this file is run directly\n",
    "if __name__ == \"__main__\":\n",
    "    main() # start the chat bot"
   ]
  },
  {
   "cell_type": "code",
   "execution_count": null,
   "id": "1c5a46bf-a6cc-4488-92ed-10ca3203c03a",
   "metadata": {},
   "outputs": [],
   "source": []
  }
 ],
 "metadata": {
  "kernelspec": {
   "display_name": "Python 3 (ipykernel)",
   "language": "python",
   "name": "python3"
  },
  "language_info": {
   "codemirror_mode": {
    "name": "ipython",
    "version": 3
   },
   "file_extension": ".py",
   "mimetype": "text/x-python",
   "name": "python",
   "nbconvert_exporter": "python",
   "pygments_lexer": "ipython3",
   "version": "3.12.6"
  }
 },
 "nbformat": 4,
 "nbformat_minor": 5
}
