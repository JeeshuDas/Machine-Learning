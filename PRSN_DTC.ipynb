{
 "cells": [
  {
   "cell_type": "code",
   "execution_count": 2,
   "id": "86f5dc37-4c43-4450-ad94-c038fc658361",
   "metadata": {},
   "outputs": [],
   "source": [
    "import torch # for tensor computations and model inference\n",
    "from transformers import AutoTokenizer, AutoModel # for lodind pre trained models and tokenizers\n",
    "import numpy as np # for neumerical operations\n",
    "from sklearn.metrics.pairwise import cosine_similarity # to calculate similarity between text embeddings"
   ]
  },
  {
   "cell_type": "code",
   "execution_count": 3,
   "id": "fd0d89eb-64b1-4aed-bad6-cce9831c1fe1",
   "metadata": {},
   "outputs": [],
   "source": [
    "# loding a pretrained personality model\n",
    "prsn = \"bert-base-uncased\""
   ]
  },
  {
   "cell_type": "code",
   "execution_count": 4,
   "id": "165394aa-b4af-4fe0-9c33-47e5cedf2202",
   "metadata": {},
   "outputs": [],
   "source": [
    "# loding the tokenizers and model from hugging face hub\n",
    "# tokenizer converts text into model redable tokens\n",
    "# model performs the personality classification\n",
    "tokenizer = AutoTokenizer.from_pretrained(prsn)\n",
    "model = AutoModel.from_pretrained(prsn)"
   ]
  },
  {
   "cell_type": "code",
   "execution_count": 5,
   "id": "5a55c3c2-2e3d-44be-b4ef-b4d0e7bf664d",
   "metadata": {},
   "outputs": [],
   "source": [
    "# defining big 5 trait anchor using descriptive keywords\n",
    "trait_keywords = {\n",
    "    \"Openness\": \"curiosity creativity imagination open-mindedness\",\n",
    "    \"Conscientiousness\": \"organized responsible disciplined dependable\",\n",
    "    \"Extraversion\": \"social outgoing energetic enthusiastic\",\n",
    "    \"Agreeableness\": \"kind trusting helpful empathetic\",\n",
    "    \"Neuroticism\": \"anxious moody stressed insecure\",\n",
    "    # Additional nuanced traits\n",
    "    \"Assertiveness\": \"confident outspoken decisive bold\",\n",
    "    \"Altruism\": \"selfless giving generous caring\",\n",
    "    \"Impulsivity\": \"spontaneous unplanned reactive\",\n",
    "    \"Cautiousness\": \"careful vigilant risk-averse\",\n",
    "    \"Self-consciousness\": \"shy embarrassed reserved nervous\",\n",
    "    \"Adventurousness\": \"risk-taking bold explorer traveler\",\n",
    "    \"Emotional Awareness\": \"self-aware intuitive sensitive mindful\",\n",
    "    \"Industriousness\": \"hardworking persistent productive goal-oriented\"\n",
    "}"
   ]
  },
  {
   "cell_type": "code",
   "execution_count": 6,
   "id": "8d0ebb16-957b-45fb-a2ce-72af0272c525",
   "metadata": {},
   "outputs": [],
   "source": [
    "# Generate an embedding vector for a given text using BERT\n",
    "# Disable gradient calculation to save memory during inference\n",
    "def get_embedding(text):\n",
    "    with torch.no_grad():\n",
    "        # tokenize input text\n",
    "        inputs = tokenizer(text, return_tensors=\"pt\", truncation=True, padding=True)\n",
    "        # pass tokens through model to get hidden states\n",
    "        outputs = model(**inputs)\n",
    "        # Average the token embeddings from the last hidden layer\n",
    "        last_hidden = outputs[0]\n",
    "        return last_hidden.mean(dim=1).squeeze().numpy()"
   ]
  },
  {
   "cell_type": "code",
   "execution_count": 7,
   "id": "4718b5cf-7659-4b64-87dd-730001a87b93",
   "metadata": {},
   "outputs": [],
   "source": [
    "# precompute embeddings for each trait keyword description\n",
    "# this will act as anchor vectors for personality trait comparison\n",
    "trait_embeddings = {trait: get_embedding(desc) for trait, desc in trait_keywords.items()}"
   ]
  },
  {
   "cell_type": "code",
   "execution_count": 8,
   "id": "3133bf54-e4bb-49ef-a21a-06a227d9c3e9",
   "metadata": {},
   "outputs": [],
   "source": [
    "# analyze personality by comparing user text to trait anchor embeddings\n",
    "def analyze_personality(user_input):\n",
    "    with torch.no_grad():\n",
    "        # generate embedding for input text\n",
    "        text_emb = get_embedding(user_input)\n",
    "        traits ={}\n",
    "        # compare text embedding with each trait embedding using cosine similarity\n",
    "        for trait, emb in trait_embeddings.items():\n",
    "            sim = cosine_similarity([text_emb], [emb])[0][0] # calculate similarity\n",
    "            traits[trait] = round(float(sim),2) # round similarity score to 2 decimals\n",
    "        return traits # return dictionary of trait scores"
   ]
  },
  {
   "cell_type": "code",
   "execution_count": 9,
   "id": "68f2e635-396a-41c6-ab62-c24d08bf3cb8",
   "metadata": {},
   "outputs": [],
   "source": [
    "# creating an in memory storage to keep personality analysis sessions\n",
    "memory_store = [] # will store input text, traits, and optional feedback"
   ]
  },
  {
   "cell_type": "code",
   "execution_count": 10,
   "id": "cde9b543-b1a8-4bf5-9a18-d15ee0c38df6",
   "metadata": {},
   "outputs": [],
   "source": [
    "# store users input and the resulting trait analysis in memory\n",
    "def store_result(text, traits):\n",
    "    memory_store.append({\n",
    "        \"text\": text, # input text\n",
    "        \"traits\": traits, # predicted traits\n",
    "        \"feedback\": None # placeholder for user feedback\n",
    "    })   "
   ]
  },
  {
   "cell_type": "code",
   "execution_count": 15,
   "id": "4359d889-1676-4df6-a6d8-db4b6154e7e9",
   "metadata": {},
   "outputs": [],
   "source": [
    "# function to update a stored analysis result with user feedback\n",
    "def update_feedback(index, updated_traits):\n",
    "    if 0<= index < len(memory_store): # ensure valid index\n",
    "        memory_store[index][\"feedback\"] = updated_traits # save feedback\n",
    "        print(f\"feedback stored for entry {index}\")\n",
    "    else:\n",
    "        print(\"invalid index\")"
   ]
  },
  {
   "cell_type": "code",
   "execution_count": 16,
   "id": "63df3e86-5464-4ec4-b4ed-3ae669f12ea8",
   "metadata": {},
   "outputs": [],
   "source": [
    "# if __name__ == \"__main__\":\n",
    "#     print(\"\\ntype 'exit' to stop\\n\")\n",
    "#     while True:\n",
    "#         user_input = input(\"you: \")\n",
    "#         if user_input.lower() == \"exit\":\n",
    "#             print(\"exiting...goodbye!\")\n",
    "#             break\n",
    "#         traits = analyze_personality(user_input)\n",
    "#         store_result(user_input, traits)\n",
    "#         print(\"predicted personality traits:\")\n",
    "#         for trait, score in traits.items():\n",
    "#             print(f\" {trait}: {score}\")\n",
    "#         print()"
   ]
  },
  {
   "cell_type": "code",
   "execution_count": null,
   "id": "60e92f88-f883-4e19-97b5-5f61027508b4",
   "metadata": {},
   "outputs": [],
   "source": []
  }
 ],
 "metadata": {
  "kernelspec": {
   "display_name": "Python 3 (ipykernel)",
   "language": "python",
   "name": "python3"
  },
  "language_info": {
   "codemirror_mode": {
    "name": "ipython",
    "version": 3
   },
   "file_extension": ".py",
   "mimetype": "text/x-python",
   "name": "python",
   "nbconvert_exporter": "python",
   "pygments_lexer": "ipython3",
   "version": "3.12.6"
  }
 },
 "nbformat": 4,
 "nbformat_minor": 5
}
